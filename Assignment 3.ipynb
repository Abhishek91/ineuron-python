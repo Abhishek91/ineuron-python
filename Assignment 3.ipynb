{
 "cells": [
  {
   "cell_type": "markdown",
   "metadata": {},
   "source": [
    "Que 1: Write a function to compute 5/0 and use try/except to catch the exceptions."
   ]
  },
  {
   "cell_type": "code",
   "execution_count": 3,
   "metadata": {},
   "outputs": [
    {
     "name": "stdout",
     "output_type": "stream",
     "text": [
      "Inside Number Divide by Zero\n"
     ]
    }
   ],
   "source": [
    "def divide(n):\n",
    "    return n/0\n",
    "\n",
    "try:\n",
    "    divide(4)\n",
    "except ZeroDivisionError as ze:\n",
    "    print(\"Inside Number Divide by Zero\")\n",
    "except:\n",
    "    print(\"Any other exception occured at runtime\")"
   ]
  },
  {
   "cell_type": "code",
   "execution_count": null,
   "metadata": {},
   "outputs": [],
   "source": []
  },
  {
   "cell_type": "markdown",
   "metadata": {},
   "source": [
    "Que 2: Implement a Python program to generate all sentences where subject is in\n",
    "[\"Americans\", \"Indians\"] and verb is in [\"Play\", \"watch\"] and the object is in\n",
    "[\"Baseball\",\"cricket\"].    \n",
    "    \n",
    "Hint: Subject,Verb and Object should be declared in the program as shown below.\n",
    "\n",
    "subjects= [\"Americans \",\"Indians\"]\n",
    "\n",
    "verbs=  [\"play\",\"watch\"]\n",
    "\n",
    "objects=  [\"Baseball\",\"Cricket\"]\n",
    "\n",
    "\n",
    "Output should come as below:\n",
    "\n",
    "Americans play Baseball.\n",
    "\n",
    "Americans play Cricket.\n",
    "\n",
    "Americans watch Baseball.\n",
    "\n",
    "Americans watch Cricket.\n",
    "\n",
    "Indians play Baseball.\n",
    "\n",
    "Indians play Cricket.\n",
    "\n",
    "Indians watch Baseball.\n",
    "\n",
    "Indians watch Cricket."
   ]
  },
  {
   "cell_type": "code",
   "execution_count": 4,
   "metadata": {},
   "outputs": [
    {
     "name": "stdout",
     "output_type": "stream",
     "text": [
      "Americans Play Baseball\n",
      "Americans Play cricket\n",
      "Americans watch Baseball\n",
      "Americans watch cricket\n",
      "Indians Play Baseball\n",
      "Indians Play cricket\n",
      "Indians watch Baseball\n",
      "Indians watch cricket\n"
     ]
    }
   ],
   "source": [
    "subject = [\"Americans\", \"Indians\"]\n",
    "verb = [\"Play\", \"watch\"]\n",
    "obj = [\"Baseball\",\"cricket\"]\n",
    "\n",
    "sentence_list = [(sub+\" \"+ vb + \" \" + ob) for sub in subject for vb in verb for ob in obj]\n",
    "for sentence in sentence_list:\n",
    "    print(sentence)"
   ]
  },
  {
   "cell_type": "code",
   "execution_count": null,
   "metadata": {},
   "outputs": [],
   "source": []
  },
  {
   "cell_type": "markdown",
   "metadata": {},
   "source": [
    "Que 3: Write a function so that the columns of the output matrix are powers of the input vector.\n",
    "The order of the powers is determined by the increasing boolean argument. Specifically, when\n",
    "increasing is False, the i-th output column is the input vector raised element-wise to the power\n",
    "of N - i - 1.\n",
    "\n",
    "HINT: Such a matrix with a geometric progression in each row is named for AlexandreTheophile Vandermonde.\n"
   ]
  },
  {
   "cell_type": "code",
   "execution_count": 5,
   "metadata": {},
   "outputs": [
    {
     "data": {
      "text/plain": [
       "array([[  1,   1,   1,   1],\n",
       "       [  8,   4,   2,   1],\n",
       "       [ 27,   9,   3,   1],\n",
       "       [ 64,  16,   4,   1],\n",
       "       [125,  25,   5,   1]])"
      ]
     },
     "execution_count": 5,
     "metadata": {},
     "output_type": "execute_result"
    }
   ],
   "source": [
    "import numpy as np\n",
    "x = np.array([1,2,3,4,5])\n",
    "N = 4\n",
    "np.vander(x,N)"
   ]
  },
  {
   "cell_type": "code",
   "execution_count": null,
   "metadata": {},
   "outputs": [],
   "source": []
  }
 ],
 "metadata": {
  "kernelspec": {
   "display_name": "Python 3",
   "language": "python",
   "name": "python3"
  },
  "language_info": {
   "codemirror_mode": {
    "name": "ipython",
    "version": 3
   },
   "file_extension": ".py",
   "mimetype": "text/x-python",
   "name": "python",
   "nbconvert_exporter": "python",
   "pygments_lexer": "ipython3",
   "version": "3.7.4"
  }
 },
 "nbformat": 4,
 "nbformat_minor": 2
}
